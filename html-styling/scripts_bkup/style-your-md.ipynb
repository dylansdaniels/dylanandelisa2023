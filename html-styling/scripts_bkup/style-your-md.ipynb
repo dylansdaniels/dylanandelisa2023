{
 "cells": [
  {
   "cell_type": "code",
   "execution_count": 1,
   "metadata": {},
   "outputs": [
    {
     "name": "stdout",
     "output_type": "stream",
     "text": [
      "pypandoc installed. Proceeding to next step.\n"
     ]
    }
   ],
   "source": [
    "import subprocess\n",
    "import sys\n",
    "\n",
    "reqs = subprocess.check_output([sys.executable, '-m', 'pip', 'freeze'])\n",
    "installed_packages = [r.decode().split('==')[0] for r in reqs.split()]\n",
    "\n",
    "if 'pypandoc' in installed_packages:\n",
    "    print('pypandoc installed. Proceeding to next step.')\n",
    "elif not 'pypandoc' in installed_packages:\n",
    "    input('\\nIMPORTANT: This script requires pypandoc (and, in turn, pandoc) to run. See the information below on installing pypandoc (and pandoc). Press any key to close this message and halt the script. \\n\\n------------------------------\\n-------- Installation --------\\n------------------------------\\n\\nSee: https://pypi.org/project/pypandoc/\\n\\nPypandoc uses pandoc, so it needs an available installation of pandoc. For some common cases (wheels, conda packages), pypandoc already includes pandoc (and pandoc-citeproc) in it’s prebuilt package.\\n\\n------------------------------\\n----- Installing via Pip -----\\n------------------------------\\n\\nInstall via pip:\\n\\n     pip install pypandoc\\n\\nPrebuilt wheels for Windows and Mac OS X include pandoc. If there is no prebuilt binary available, you have to install pandoc yourself.\\n\\nIf you use Linux and have your own wheelhouse, you can build a wheel which include pandoc with python setup.py download_pandoc; python setup.py bdist_wheel. Be aware that this works only on 64bit intel systems, as we only download it from the official releases.\\n\\n------------------------------\\n---- Installing via Conda ----\\n------------------------------\\n\\nPypandoc is included in conda-forge. The conda packages will also install the pandoc package, so pandoc is available in the installation.\\n\\nInstall via conda: \\n\\n     install -c conda-forge pypandoc\\n\\nYou can also add the channel to your conda config via conda config --add channels conda-forge. This makes it possible to use conda install pypandoc directly and also lets you update via conda update pypandoc.\\n\\nPress any key to exit the this message and halt the script.\\n')\n",
    "    quit()\n",
    "\n",
    "import pypandoc"
   ]
  },
  {
   "cell_type": "code",
   "execution_count": 3,
   "metadata": {},
   "outputs": [
    {
     "name": "stdout",
     "output_type": "stream",
     "text": [
      "Select folder \n",
      "\n",
      "1 = gamma \n",
      "2 = alpha_and_beta \n",
      "3 = optimization \n",
      "4 = starting_with_data \n",
      "5 = gui \n",
      "6 = erp \n",
      "\n",
      "Your response: 4\n"
     ]
    }
   ],
   "source": [
    "import os\n",
    "#os.chdir('/Users/dylandaniels/Documents/github-repos/hnn-tutorials')\n",
    "parentdirectory=os.getcwd()\n",
    "\n",
    "## get names of folders in working directory and save to 'y'. Save the number of folders to 'leny'.\n",
    "#y=os.listdir()\n",
    "y = [f.name for f in os.scandir(parentdirectory) if f.is_dir() and not f.name == '.ipynb_checkpoints' and not f.name == '.git' and not f.name == 'html-styling' and not f.name == 'images']  \n",
    "leny=len(y)\n",
    "\n",
    "## add names of folder to a string to prompt the user with options in the input code below\n",
    "count=1\n",
    "mystring=\"Select folder \\n\\n\"\n",
    "for e in y:\n",
    "    mystring += str(count) + \" = \" + e + \" \\n\" \n",
    "    count=count+1\n",
    "mystring+=\"\\nYour response: \"\n",
    "\n",
    "## prompt user to select folder, save folder chosen to 'subfolder'\n",
    "shift = 0\n",
    "while 1 > shift or leny < shift:\n",
    "    try:\n",
    "        shift = int(input(mystring))\n",
    "    except ValueError:\n",
    "        print('Try again')\n",
    "subfolder = y[shift-1]\n",
    "\n",
    "## join 'subfolder' to parent directory path\n",
    "subfolder=os.path.join(parentdirectory,subfolder)\n"
   ]
  },
  {
   "cell_type": "code",
   "execution_count": 9,
   "metadata": {},
   "outputs": [
    {
     "name": "stdout",
     "output_type": "stream",
     "text": [
      "['getting-started.md']\n",
      "Select file from the list below \n",
      "\n",
      "1 = getting-started.md \n",
      "\n",
      "Your response: 1\n",
      "You chose: getting-started.md\n"
     ]
    }
   ],
   "source": [
    "## change directory to 'subfolder' as defined above\n",
    "os.chdir(subfolder)\n",
    "\n",
    "## save directory contents in list 'x' and save length of list in 'lenx'\n",
    "x=[]\n",
    "for file in os.listdir():\n",
    "    if file.endswith(\".md\"):\n",
    "        x+=[file]\n",
    "    #if file.endswith(\".html\"):\n",
    "        #x+=[file]\n",
    "lenx = len(x)\n",
    "print(x)\n",
    "\n",
    "## add names of folder to a string to prompt the user with options in the input code below\n",
    "count=1\n",
    "mystring=\"Select file from the list below \\n\\n\"\n",
    "for e in x:\n",
    "    mystring += str(count) + \" = \" + e + \" \\n\" \n",
    "    count=count+1\n",
    "mystring+=\"\\nYour response: \"\n",
    "\n",
    "## prompt user to select file, save file chosen to 'subfile_og'\n",
    "shift2 = 0\n",
    "while 1 > shift2 or lenx < shift2:\n",
    "    try:\n",
    "        shift2 = int(input(mystring))\n",
    "    except ValueError:\n",
    "        print('Try again')\n",
    "mdfile_og = x[shift2-1]\n",
    "print('You chose: '+mdfile_og)\n"
   ]
  },
  {
   "cell_type": "code",
   "execution_count": 17,
   "metadata": {},
   "outputs": [],
   "source": [
    "## covert the chosen md file to html with pandoc\n",
    "output = pypandoc.convert_file(mdfile_og, 'html', outputfile=\"body_only.html\")\n",
    "\n",
    "## get the filepath for the html header\n",
    "headersubfolder='html-styling'\n",
    "headerfile='page-setup.html'\n",
    "htmlheader= os.path.join(parentdirectory,headersubfolder)\n",
    "htmlheader=os.path.join(htmlheader,headerfile)\n",
    "\n",
    "## get the filepath for the html body\n",
    "htmlbody = os.path.join(subfolder, \"body_only.html\")\n",
    "\n",
    "## define filenames\n",
    "filenames = [htmlheader,htmlbody]\n",
    "\n",
    "## strip filetype from filename, save filename to new var\n",
    "output_fname = os.path.splitext(os.path.basename(mdfile_og))[0]\n",
    "output_fname+=\".html\"\n",
    "\n",
    "## write a new file 'output_fname' that combines html header and html body\n",
    "with open(output_fname, 'w') as outfile:\n",
    "    for fname in filenames:\n",
    "        with open(fname) as infile:\n",
    "            for line in infile:\n",
    "                outfile.write(line)\n",
    "\n",
    "## delete body_only.html\n",
    "os.remove(htmlbody)\n",
    "\n",
    "os.chdir(parentdirectory)"
   ]
  },
  {
   "cell_type": "code",
   "execution_count": null,
   "metadata": {},
   "outputs": [],
   "source": []
  },
  {
   "cell_type": "code",
   "execution_count": null,
   "metadata": {},
   "outputs": [],
   "source": []
  }
 ],
 "metadata": {
  "kernelspec": {
   "display_name": "Python 3",
   "language": "python",
   "name": "python3"
  },
  "language_info": {
   "codemirror_mode": {
    "name": "ipython",
    "version": 3
   },
   "file_extension": ".py",
   "mimetype": "text/x-python",
   "name": "python",
   "nbconvert_exporter": "python",
   "pygments_lexer": "ipython3",
   "version": "3.6.8"
  }
 },
 "nbformat": 4,
 "nbformat_minor": 2
}
