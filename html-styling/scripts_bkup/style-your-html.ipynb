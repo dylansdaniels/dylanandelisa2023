{
 "cells": [
  {
   "cell_type": "code",
   "execution_count": 2,
   "metadata": {},
   "outputs": [
    {
     "ename": "ModuleNotFoundError",
     "evalue": "No module named 'pypandoc'",
     "output_type": "error",
     "traceback": [
      "\u001b[0;31m---------------------------------------------------------------------------\u001b[0m",
      "\u001b[0;31mModuleNotFoundError\u001b[0m                       Traceback (most recent call last)",
      "\u001b[0;32m<ipython-input-2-4a5ca97c416b>\u001b[0m in \u001b[0;36m<module>\u001b[0;34m\u001b[0m\n\u001b[0;32m----> 1\u001b[0;31m \u001b[0;32mimport\u001b[0m \u001b[0mpypandoc\u001b[0m\u001b[0;34m\u001b[0m\u001b[0;34m\u001b[0m\u001b[0m\n\u001b[0m",
      "\u001b[0;31mModuleNotFoundError\u001b[0m: No module named 'pypandoc'"
     ]
    }
   ],
   "source": [
    "import pypandoc"
   ]
  },
  {
   "cell_type": "code",
   "execution_count": null,
   "metadata": {},
   "outputs": [],
   "source": []
  },
  {
   "cell_type": "code",
   "execution_count": 1,
   "metadata": {},
   "outputs": [
    {
     "name": "stdout",
     "output_type": "stream",
     "text": [
      "Select file \n",
      "\n",
      "1 = Getting Started With Your Data \n",
      "2 = Archive \n",
      "3 = alpha_and_beta \n",
      "4 = images \n",
      "5 = optimization \n",
      "6 = Gamma Tutorial \n",
      "7 = ERP Tutorial \n",
      "8 = Tour of the GUI \n",
      "9 = Viewing Data Tutorial \n",
      "\n",
      "Your response: 5\n"
     ]
    }
   ],
   "source": [
    "## import os\n",
    "\n",
    "import os\n",
    "os.chdir('/Users/dylandaniels/Documents/github-repos/hnn-tutorials')\n",
    "parentdirectory=os.getcwd()\n",
    "\n",
    "#y=os.listdir()\n",
    "#print(y)\n",
    "\n",
    "y = [f.name for f in os.scandir(parentdirectory) if f.is_dir() and not f.name == '.ipynb_checkpoints' and not f.name == '.git' and not f.name == 'html-styling']  \n",
    "#print(y)\n",
    "\n",
    "leny=len(y)\n",
    "#print(leny)\n",
    "\n",
    "count=1\n",
    "mystring=\"Select file \\n\\n\"\n",
    "for e in y:\n",
    "    mystring += str(count) + \" = \" + e + \" \\n\" \n",
    "    count=count+1\n",
    "mystring+=\"\\nYour response: \"\n",
    "#print(mystring)\n",
    "\n",
    "## prompt user to select file, save file chosen to 'subfile'\n",
    "\n",
    "shift = 0\n",
    "while 1 > shift or leny < shift:\n",
    "    try:\n",
    "        shift = int(input(mystring))\n",
    "    except ValueError:\n",
    "        print('Try again')\n",
    "subfolder = y[shift-1]\n",
    "#print(subfolder)\n",
    "\n",
    "subfolder=os.path.join(parentdirectory,subfolder)\n",
    "#If you cannot assume / to be the folder separator, do this: glob(os.path.join(path_to_directory, \"*\", \"\"))\n",
    "#print(subfolder)"
   ]
  },
  {
   "cell_type": "code",
   "execution_count": 2,
   "metadata": {},
   "outputs": [
    {
     "name": "stdout",
     "output_type": "stream",
     "text": [
      "Select file from the list below \n",
      "\n",
      "1 = ERPYes20Trials_173ms_opt4_window15ms.param \n",
      "2 = optimization.html \n",
      "3 = images \n",
      "4 = .ipynb_checkpoints \n",
      "5 = optimization_v0.html \n",
      "6 = optimization.md \n",
      "\n",
      "Your response: 2\n",
      "You chose: optimization.html\n"
     ]
    }
   ],
   "source": [
    "## change directory to 'subfolder' as defined above\n",
    "\n",
    "os.chdir(subfolder)\n",
    "\n",
    "## save directory contents in list 'x' and save length of list in 'lenx'\n",
    "\n",
    "x = os.listdir()\n",
    "lenx = len(x)\n",
    "#print(lenx)\n",
    "#print(x)\n",
    "\n",
    "## define user prompt based on list 'x' and 'lenx'\n",
    "\n",
    "count=1\n",
    "mystring=\"Select file from the list below \\n\\n\"\n",
    "for e in x:\n",
    "    mystring += str(count) + \" = \" + e + \" \\n\" \n",
    "    count=count+1\n",
    "mystring+=\"\\nYour response: \"\n",
    "#print(mystring)\n",
    "\n",
    "## prompt user to select file, save file chosen to 'subfile_og'\n",
    "\n",
    "shift2 = 0\n",
    "while 1 > shift2 or lenx < shift2:\n",
    "    try:\n",
    "        shift2 = int(input(mystring))\n",
    "    except ValueError:\n",
    "        print('Try again')\n",
    "subfile_og = x[shift2-1]\n",
    "print('You chose: '+subfile_og)"
   ]
  },
  {
   "cell_type": "code",
   "execution_count": 3,
   "metadata": {},
   "outputs": [],
   "source": [
    "## change directory to 'parentdirectory' as defined above; not necessary\n",
    "\n",
    "#os.chdir(parentdirectory)\n",
    "\n",
    "## define file a\n",
    "\n",
    "#htmlheader='/Users/dylandaniels/Documents/github-repos/hnn-tutorials/html-styling/page-setup.html'\n",
    "#print(parentdirectory)\n",
    "headersubfolder='html-styling'\n",
    "headerfile='page-setup.html'\n",
    "htmlheader= os.path.join(parentdirectory,headersubfolder)\n",
    "htmlheader=os.path.join(htmlheader,headerfile)\n",
    "#print(htmlheader)\n",
    "htmlbody_og= os.path.join(subfolder,subfile_og)\n",
    "subfile=\"body_\"+subfile_og\n",
    "htmlbody= os.path.join(subfolder,subfile)\n",
    "#print(htmlbody)\n",
    "os.rename(htmlbody_og,htmlbody)\n",
    "\n",
    "\n",
    "\n",
    "filenames = [htmlheader,htmlbody]\n"
   ]
  },
  {
   "cell_type": "code",
   "execution_count": 4,
   "metadata": {},
   "outputs": [],
   "source": [
    "#outname=input('\\nSpecify your output file name. Include the .html filetype. \\n  Your response: ')\n",
    "#outpath=os.path.join(subfolder,outname)\n",
    "#print(outfile)\n",
    "\n",
    "#with open(outpath, 'w') as outfile:\n",
    "with open(htmlbody_og, 'w') as outfile:\n",
    "    for fname in filenames:\n",
    "        with open(fname) as infile:\n",
    "            for line in infile:\n",
    "                outfile.write(line)"
   ]
  },
  {
   "cell_type": "code",
   "execution_count": 5,
   "metadata": {},
   "outputs": [
    {
     "name": "stdout",
     "output_type": "stream",
     "text": [
      "/Users/dylandaniels/Documents/github-repos/hnn-tutorials/optimization/body_optimization.html\n",
      "/Users/dylandaniels/Documents/github-repos/hnn-tutorials/optimization/optimization.html\n",
      "optimization.html\n",
      "body_optimization.html\n"
     ]
    }
   ],
   "source": [
    "#print(htmlheader)\n",
    "#print(htmlbody)\n",
    "#print(outpath)\n",
    "print(htmlbody)\n",
    "print(htmlbody_og)\n",
    "print(subfile_og)\n",
    "print(subfile)"
   ]
  },
  {
   "cell_type": "code",
   "execution_count": null,
   "metadata": {},
   "outputs": [],
   "source": []
  }
 ],
 "metadata": {
  "kernelspec": {
   "display_name": "Python 3",
   "language": "python",
   "name": "python3"
  },
  "language_info": {
   "codemirror_mode": {
    "name": "ipython",
    "version": 3
   },
   "file_extension": ".py",
   "mimetype": "text/x-python",
   "name": "python",
   "nbconvert_exporter": "python",
   "pygments_lexer": "ipython3",
   "version": "3.6.8"
  }
 },
 "nbformat": 4,
 "nbformat_minor": 2
}
